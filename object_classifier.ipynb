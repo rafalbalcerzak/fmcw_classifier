{
 "cells": [
  {
   "cell_type": "code",
   "execution_count": 1,
   "metadata": {
    "collapsed": true,
    "ExecuteTime": {
     "end_time": "2023-07-30T18:45:09.407663Z",
     "start_time": "2023-07-30T18:45:05.042973Z"
    }
   },
   "outputs": [],
   "source": [
    "import h5py\n",
    "import numpy as  np\n",
    "from pathlib import Path\n",
    "import matplotlib.pyplot as plt\n",
    "from source import helper\n",
    "import matplotlib.image\n",
    "import random\n",
    "import datetime\n",
    "import os\n",
    "plt.rcParams[\"figure.figsize\"] = (20,5)\n",
    "plt.rcParams[\"image.interpolation\"] = 'none'\n",
    "import tensorflow as tf\n",
    "from tensorflow.keras.layers import Input, Lambda, Conv2D, BatchNormalization\n",
    "from tensorflow.keras.layers import Activation, MaxPool2D, Flatten, Dropout, Dense, Conv3D\n",
    "from sklearn.model_selection import train_test_split"
   ]
  },
  {
   "cell_type": "code",
   "execution_count": 2,
   "outputs": [
    {
     "data": {
      "text/plain": "(81103, 6, 15, 15)"
     },
     "execution_count": 2,
     "metadata": {},
     "output_type": "execute_result"
    }
   ],
   "source": [
    "X = np.load('data/class/X(15, 15).npy')\n",
    "X.shape"
   ],
   "metadata": {
    "collapsed": false,
    "ExecuteTime": {
     "end_time": "2023-07-30T18:45:09.679220Z",
     "start_time": "2023-07-30T18:45:09.409662300Z"
    }
   }
  },
  {
   "cell_type": "code",
   "execution_count": 3,
   "outputs": [
    {
     "data": {
      "text/plain": "(81103,)"
     },
     "execution_count": 3,
     "metadata": {},
     "output_type": "execute_result"
    }
   ],
   "source": [
    "Y = np.load('data/class/Y(15, 15).npy')\n",
    "Y.shape"
   ],
   "metadata": {
    "collapsed": false,
    "ExecuteTime": {
     "end_time": "2023-07-30T18:45:09.724121400Z",
     "start_time": "2023-07-30T18:45:09.682221100Z"
    }
   }
  },
  {
   "cell_type": "code",
   "execution_count": 4,
   "outputs": [],
   "source": [
    "Y = Y - 1"
   ],
   "metadata": {
    "collapsed": false,
    "ExecuteTime": {
     "end_time": "2023-07-30T18:45:09.739135700Z",
     "start_time": "2023-07-30T18:45:09.698125800Z"
    }
   }
  },
  {
   "cell_type": "code",
   "execution_count": 5,
   "outputs": [
    {
     "data": {
      "text/plain": "(array([13685., 14416., 15790., 13932., 23280.]),\n array([0. , 0.8, 1.6, 2.4, 3.2, 4. ]),\n <BarContainer object of 5 artists>)"
     },
     "execution_count": 5,
     "metadata": {},
     "output_type": "execute_result"
    },
    {
     "data": {
      "text/plain": "<Figure size 2000x500 with 1 Axes>",
      "image/png": "[encoded data removed]"
     },
     "metadata": {},
     "output_type": "display_data"
    }
   ],
   "source": [
    "plt.hist(Y, bins=len(set(Y)))"
   ],
   "metadata": {
    "collapsed": false,
    "ExecuteTime": {
     "end_time": "2023-07-30T18:45:09.916369400Z",
     "start_time": "2023-07-30T18:45:09.724121400Z"
    }
   }
  },
  {
   "cell_type": "code",
   "execution_count": 6,
   "outputs": [],
   "source": [
    "%load_ext tensorboard\n",
    "# do terminala: tensorboard --logdir data/logs_classification/fit"
   ],
   "metadata": {
    "collapsed": false,
    "ExecuteTime": {
     "end_time": "2023-07-30T18:45:09.934372200Z",
     "start_time": "2023-07-30T18:45:09.917370800Z"
    }
   }
  },
  {
   "cell_type": "code",
   "execution_count": 7,
   "outputs": [],
   "source": [
    "X_train, X_test, y_train, y_test = train_test_split(X, Y, test_size=0.33, random_state=42)"
   ],
   "metadata": {
    "collapsed": false,
    "ExecuteTime": {
     "end_time": "2023-07-30T18:45:10.107370700Z",
     "start_time": "2023-07-30T18:45:09.933370700Z"
    }
   }
  },
  {
   "cell_type": "code",
   "execution_count": 8,
   "outputs": [],
   "source": [
    "X_train  = np.array(X_train)\n",
    "y_train = np.array(y_train)\n",
    "X_test  = np.array(X_test)\n",
    "y_test = np.array(y_test)\n",
    "X_train = np.expand_dims(X_train, axis=-1)\n",
    "X_test = np.expand_dims(X_test, axis=-1)"
   ],
   "metadata": {
    "collapsed": false,
    "ExecuteTime": {
     "end_time": "2023-07-30T18:45:10.283401500Z",
     "start_time": "2023-07-30T18:45:10.110369400Z"
    }
   }
  },
  {
   "cell_type": "code",
   "execution_count": 9,
   "outputs": [
    {
     "data": {
      "text/plain": "(26764, 6, 15, 15, 1)"
     },
     "execution_count": 9,
     "metadata": {},
     "output_type": "execute_result"
    }
   ],
   "source": [
    "X_test.shape"
   ],
   "metadata": {
    "collapsed": false,
    "ExecuteTime": {
     "end_time": "2023-07-30T18:45:10.298999700Z",
     "start_time": "2023-07-30T18:45:10.286400800Z"
    }
   }
  },
  {
   "cell_type": "code",
   "execution_count": 10,
   "outputs": [
    {
     "data": {
      "text/plain": "(26764,)"
     },
     "execution_count": 10,
     "metadata": {},
     "output_type": "execute_result"
    }
   ],
   "source": [
    "y_test.shape"
   ],
   "metadata": {
    "collapsed": false,
    "ExecuteTime": {
     "end_time": "2023-07-30T18:45:11.490330100Z",
     "start_time": "2023-07-30T18:45:11.440307100Z"
    }
   }
  },
  {
   "cell_type": "code",
   "execution_count": 11,
   "outputs": [
    {
     "name": "stdout",
     "output_type": "stream",
     "text": [
      "Model: \"model\"\n",
      "_________________________________________________________________\n",
      " Layer (type)                Output Shape              Param #   \n",
      "=================================================================\n",
      " input_1 (InputLayer)        [(None, 6, 15, 15, 1)]    0         \n",
      "                                                                 \n",
      " conv3d (Conv3D)             (None, 4, 13, 13, 8)      224       \n",
      "                                                                 \n",
      " batch_normalization (BatchN  (None, 4, 13, 13, 8)     32        \n",
      " ormalization)                                                   \n",
      "                                                                 \n",
      " conv3d_1 (Conv3D)           (None, 2, 11, 11, 16)     3472      \n",
      "                                                                 \n",
      " batch_normalization_1 (Batc  (None, 2, 11, 11, 16)    64        \n",
      " hNormalization)                                                 \n",
      "                                                                 \n",
      " activation (Activation)     (None, 2, 11, 11, 16)     0         \n",
      "                                                                 \n",
      " flatten (Flatten)           (None, 3872)              0         \n",
      "                                                                 \n",
      " dropout (Dropout)           (None, 3872)              0         \n",
      "                                                                 \n",
      " dense (Dense)               (None, 64)                247872    \n",
      "                                                                 \n",
      " dropout_1 (Dropout)         (None, 64)                0         \n",
      "                                                                 \n",
      " dense_1 (Dense)             (None, 5)                 325       \n",
      "                                                                 \n",
      "=================================================================\n",
      "Total params: 251,989\n",
      "Trainable params: 251,941\n",
      "Non-trainable params: 48\n",
      "_________________________________________________________________\n",
      "Epoch 1/30\n",
      "1699/1699 [==============================] - 16s 8ms/step - loss: 1.8414 - accuracy: 0.2642 - val_loss: 1.4003 - val_accuracy: 0.4401\n",
      "Epoch 2/30\n",
      "1699/1699 [==============================] - 15s 9ms/step - loss: 1.4521 - accuracy: 0.3835 - val_loss: 1.2562 - val_accuracy: 0.5238\n",
      "Epoch 3/30\n",
      "1699/1699 [==============================] - 14s 8ms/step - loss: 1.2881 - accuracy: 0.4584 - val_loss: 1.0819 - val_accuracy: 0.5881\n",
      "Epoch 4/30\n",
      "1699/1699 [==============================] - 14s 8ms/step - loss: 1.1535 - accuracy: 0.5132 - val_loss: 0.9450 - val_accuracy: 0.6453\n",
      "Epoch 5/30\n",
      "1699/1699 [==============================] - 15s 9ms/step - loss: 1.0499 - accuracy: 0.5515 - val_loss: 0.8426 - val_accuracy: 0.6871\n",
      "Epoch 6/30\n",
      "1699/1699 [==============================] - 14s 8ms/step - loss: 0.9691 - accuracy: 0.5857 - val_loss: 0.7628 - val_accuracy: 0.7192\n",
      "Epoch 7/30\n",
      "1699/1699 [==============================] - 14s 8ms/step - loss: 0.8976 - accuracy: 0.6175 - val_loss: 0.6890 - val_accuracy: 0.7451\n",
      "Epoch 8/30\n",
      "1699/1699 [==============================] - 15s 9ms/step - loss: 0.8301 - accuracy: 0.6486 - val_loss: 0.6237 - val_accuracy: 0.7690\n",
      "Epoch 9/30\n",
      "1699/1699 [==============================] - 15s 9ms/step - loss: 0.7726 - accuracy: 0.6761 - val_loss: 0.5684 - val_accuracy: 0.7895\n",
      "Epoch 10/30\n",
      "1699/1699 [==============================] - 14s 8ms/step - loss: 0.7198 - accuracy: 0.6978 - val_loss: 0.5141 - val_accuracy: 0.8140\n",
      "Epoch 11/30\n",
      "1699/1699 [==============================] - 14s 8ms/step - loss: 0.6717 - accuracy: 0.7234 - val_loss: 0.4674 - val_accuracy: 0.8328\n",
      "Epoch 12/30\n",
      "1699/1699 [==============================] - 14s 8ms/step - loss: 0.6287 - accuracy: 0.7399 - val_loss: 0.4266 - val_accuracy: 0.8494\n",
      "Epoch 13/30\n",
      "1699/1699 [==============================] - 14s 8ms/step - loss: 0.5798 - accuracy: 0.7621 - val_loss: 0.3888 - val_accuracy: 0.8637\n",
      "Epoch 14/30\n",
      "1699/1699 [==============================] - 14s 8ms/step - loss: 0.5458 - accuracy: 0.7776 - val_loss: 0.3584 - val_accuracy: 0.8757\n",
      "Epoch 15/30\n",
      "1699/1699 [==============================] - 15s 9ms/step - loss: 0.5134 - accuracy: 0.7936 - val_loss: 0.3311 - val_accuracy: 0.8867\n",
      "Epoch 16/30\n",
      "1699/1699 [==============================] - 14s 8ms/step - loss: 0.4829 - accuracy: 0.8046 - val_loss: 0.3065 - val_accuracy: 0.8987\n",
      "Epoch 17/30\n",
      "1699/1699 [==============================] - 14s 8ms/step - loss: 0.4565 - accuracy: 0.8184 - val_loss: 0.2851 - val_accuracy: 0.9071\n",
      "Epoch 18/30\n",
      "1699/1699 [==============================] - 14s 8ms/step - loss: 0.4328 - accuracy: 0.8280 - val_loss: 0.2646 - val_accuracy: 0.9176\n",
      "Epoch 19/30\n",
      "1699/1699 [==============================] - 14s 8ms/step - loss: 0.4147 - accuracy: 0.8373 - val_loss: 0.2485 - val_accuracy: 0.9243\n",
      "Epoch 20/30\n",
      "1699/1699 [==============================] - 14s 8ms/step - loss: 0.3948 - accuracy: 0.8478 - val_loss: 0.2335 - val_accuracy: 0.9304\n",
      "Epoch 21/30\n",
      "1699/1699 [==============================] - 14s 8ms/step - loss: 0.3758 - accuracy: 0.8542 - val_loss: 0.2163 - val_accuracy: 0.9378\n",
      "Epoch 22/30\n",
      "1699/1699 [==============================] - 14s 8ms/step - loss: 0.3585 - accuracy: 0.8630 - val_loss: 0.2035 - val_accuracy: 0.9431\n",
      "Epoch 23/30\n",
      "1699/1699 [==============================] - 14s 8ms/step - loss: 0.3435 - accuracy: 0.8713 - val_loss: 0.1902 - val_accuracy: 0.9474\n",
      "Epoch 24/30\n",
      "1699/1699 [==============================] - 14s 8ms/step - loss: 0.3299 - accuracy: 0.8765 - val_loss: 0.1796 - val_accuracy: 0.9518\n",
      "Epoch 25/30\n",
      "1699/1699 [==============================] - 14s 8ms/step - loss: 0.3155 - accuracy: 0.8828 - val_loss: 0.1693 - val_accuracy: 0.9555\n",
      "Epoch 26/30\n",
      "1699/1699 [==============================] - 14s 8ms/step - loss: 0.3040 - accuracy: 0.8873 - val_loss: 0.1605 - val_accuracy: 0.9588\n",
      "Epoch 27/30\n",
      "1699/1699 [==============================] - 13s 8ms/step - loss: 0.2949 - accuracy: 0.8931 - val_loss: 0.1511 - val_accuracy: 0.9624\n",
      "Epoch 28/30\n",
      "1699/1699 [==============================] - 13s 8ms/step - loss: 0.2799 - accuracy: 0.8970 - val_loss: 0.1431 - val_accuracy: 0.9648\n",
      "Epoch 29/30\n",
      "1699/1699 [==============================] - 13s 8ms/step - loss: 0.2689 - accuracy: 0.9012 - val_loss: 0.1342 - val_accuracy: 0.9667\n",
      "Epoch 30/30\n",
      "1699/1699 [==============================] - 13s 8ms/step - loss: 0.2594 - accuracy: 0.9067 - val_loss: 0.1276 - val_accuracy: 0.9694\n"
     ]
    }
   ],
   "source": [
    "model_name = 'class_conv3d_(15,15)'\n",
    "\n",
    "input = Input((6,15,15,1))\n",
    "x = Conv3D(8, (3,3,3))(input)\n",
    "x = BatchNormalization()(x)\n",
    "x = Conv3D(16, (3,3,3))(x)\n",
    "x = BatchNormalization()(x)\n",
    "x = Activation(\"relu\")(x)\n",
    "x = Flatten()(x)\n",
    "x = Dropout(0.4)(x)\n",
    "x = Dense(64, activation = \"relu\")(x)\n",
    "x = Dropout(0.4)(x)\n",
    "x = Dense(5, activation = \"softmax\")(x)\n",
    "classification_model = tf.keras.models.Model(input, x)\n",
    "\n",
    "classification_model.compile(\n",
    "  loss = \"sparse_categorical_crossentropy\",\n",
    "  optimizer = tf.keras.optimizers.Adam(learning_rate = 3e-6),\n",
    "  metrics = [\"accuracy\"]\n",
    ")\n",
    "classification_model.summary()\n",
    "\n",
    "log_dir = \"data/logs_classification/fit\" + model_name\n",
    "tensorboard_callback = tf.keras.callbacks.TensorBoard(log_dir=log_dir, histogram_freq=1)\n",
    "\n",
    "with tf.device('/gpu:0'):\n",
    "   classification_model.fit(X_train, y_train, batch_size = 32, epochs = 30,\n",
    "          validation_data=(X_test, y_test),\n",
    "          callbacks=[tensorboard_callback])\n",
    "\n",
    "classification_model.save('data/models/'+model_name+'.h5')"
   ],
   "metadata": {
    "collapsed": false,
    "ExecuteTime": {
     "end_time": "2023-07-30T18:52:14.370026500Z",
     "start_time": "2023-07-30T18:45:12.643441700Z"
    }
   }
  },
  {
   "cell_type": "code",
   "execution_count": 12,
   "outputs": [],
   "source": [
    "import pandas as pd\n",
    "import seaborn as sn\n",
    "from matplotlib.colors import LogNorm, Normalize\n",
    "def display_cf_matrix(pred, y_test):\n",
    "    prediciton = []\n",
    "    for p in pred:\n",
    "        prediciton.append(np.argmax(p))\n",
    "\n",
    "    cf = tf.math.confusion_matrix(y_test, prediciton)\n",
    "\n",
    "    df_cm = pd.DataFrame(cf, )\n",
    "    plt.figure(figsize = (10,7))\n",
    "    sn.heatmap(df_cm, annot=True, fmt='g', )"
   ],
   "metadata": {
    "collapsed": false,
    "ExecuteTime": {
     "end_time": "2023-07-30T18:52:17.408736400Z",
     "start_time": "2023-07-30T18:52:17.236841600Z"
    }
   }
  },
  {
   "cell_type": "code",
   "execution_count": 13,
   "outputs": [
    {
     "name": "stdout",
     "output_type": "stream",
     "text": [
      "837/837 [==============================] - 2s 2ms/step\n"
     ]
    }
   ],
   "source": [
    "pred_X = classification_model.predict(X_test)"
   ],
   "metadata": {
    "collapsed": false,
    "ExecuteTime": {
     "end_time": "2023-07-30T18:52:20.723200200Z",
     "start_time": "2023-07-30T18:52:17.972182600Z"
    }
   }
  },
  {
   "cell_type": "code",
   "execution_count": 14,
   "outputs": [
    {
     "data": {
      "text/plain": "<Figure size 1000x700 with 2 Axes>",
      "image/png": "[encoded data removed]"
     },
     "metadata": {},
     "output_type": "display_data"
    }
   ],
   "source": [
    "display_cf_matrix(pred_X, y_test)"
   ],
   "metadata": {
    "collapsed": false,
    "ExecuteTime": {
     "end_time": "2023-07-30T18:52:21.873427100Z",
     "start_time": "2023-07-30T18:52:21.428587500Z"
    }
   }
  },
  {
   "cell_type": "markdown",
   "source": [
    "- 0-bartek\n",
    "- 1-kuba\n",
    "- 2-oskar\n",
    "- 3-rafal\n",
    "- 4-oddychacz, wiatrak, samochod"
   ],
   "metadata": {
    "collapsed": false
   }
  },
  {
   "cell_type": "code",
   "execution_count": 15,
   "outputs": [],
   "source": [
    "X2 = np.expand_dims(X, axis=-1)\n",
    "Y2 = np.expand_dims(Y, axis=-1)"
   ],
   "metadata": {
    "collapsed": false,
    "ExecuteTime": {
     "end_time": "2023-07-30T18:54:38.721962300Z",
     "start_time": "2023-07-30T18:54:38.714961500Z"
    }
   }
  },
  {
   "cell_type": "code",
   "execution_count": 16,
   "outputs": [
    {
     "name": "stdout",
     "output_type": "stream",
     "text": [
      "2535/2535 [==============================] - 7s 3ms/step\n"
     ]
    },
    {
     "data": {
      "text/plain": "<Figure size 1000x700 with 2 Axes>",
      "image/png": "[encoded data removed]"
     },
     "metadata": {},
     "output_type": "display_data"
    }
   ],
   "source": [
    "pred_X2 = classification_model.predict(X2)\n",
    "display_cf_matrix(pred_X2, Y2)"
   ],
   "metadata": {
    "collapsed": false,
    "ExecuteTime": {
     "end_time": "2023-07-30T18:54:49.483888600Z",
     "start_time": "2023-07-30T18:54:39.909350400Z"
    }
   }
  }
 ],
 "metadata": {
  "kernelspec": {
   "display_name": "Python 3",
   "language": "python",
   "name": "python3"
  },
  "language_info": {
   "codemirror_mode": {
    "name": "ipython",
    "version": 2
   },
   "file_extension": ".py",
   "mimetype": "text/x-python",
   "name": "python",
   "nbconvert_exporter": "python",
   "pygments_lexer": "ipython2",
   "version": "2.7.6"
  }
 },
 "nbformat": 4,
 "nbformat_minor": 0
}
