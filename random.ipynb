{
 "cells": [
  {
   "cell_type": "code",
   "execution_count": 1,
   "metadata": {
    "collapsed": true,
    "ExecuteTime": {
     "end_time": "2023-07-30T14:06:35.186148200Z",
     "start_time": "2023-07-30T14:06:35.050146800Z"
    }
   },
   "outputs": [],
   "source": [
    "import numpy as np"
   ]
  },
  {
   "cell_type": "code",
   "execution_count": 1,
   "outputs": [],
   "source": [
    "import h5py\n",
    "import numpy as  np\n",
    "import matplotlib.pyplot as plt\n",
    "from source import helper\n",
    "plt.rcParams[\"figure.figsize\"] = (20,5)\n",
    "plt.rcParams[\"image.interpolation\"] = 'none'\n",
    "import tensorflow as tf"
   ],
   "metadata": {
    "collapsed": false,
    "ExecuteTime": {
     "end_time": "2023-08-01T11:22:42.686309200Z",
     "start_time": "2023-08-01T11:22:39.803583700Z"
    }
   }
  },
  {
   "cell_type": "code",
   "execution_count": 2,
   "outputs": [],
   "source": [
    "H5_FILENAME = 'final_dataset'\n",
    "loaded_file = h5py.File('data/'+ H5_FILENAME + '.h5','r')"
   ],
   "metadata": {
    "collapsed": false,
    "ExecuteTime": {
     "end_time": "2023-08-01T11:22:47.483581300Z",
     "start_time": "2023-08-01T11:22:47.463587800Z"
    }
   }
  },
  {
   "cell_type": "code",
   "execution_count": 3,
   "outputs": [],
   "source": [
    "background = loaded_file['background']\n",
    "distances = [1,2,5,10,20,50]\n",
    "max_depth = 50\n",
    "\n",
    "frames = loaded_file['rafal']\n",
    "frames = helper.subtract_background(background, frames)\n",
    "spects,y = helper.gen_n_diff_spect(frames, distances=distances)\n",
    "spects = np.array(spects)\n",
    "spects = spects[:,:50,:]\n"
   ],
   "metadata": {
    "collapsed": false,
    "ExecuteTime": {
     "end_time": "2023-08-01T11:23:19.652046100Z",
     "start_time": "2023-08-01T11:23:17.149048700Z"
    }
   }
  },
  {
   "cell_type": "code",
   "execution_count": 4,
   "outputs": [
    {
     "data": {
      "text/plain": "array([ 0.  ,  0.15,  0.3 ,  0.45,  0.6 ,  0.75,  0.9 ,  1.05,  1.2 ,\n        1.35,  1.5 ,  1.65,  1.8 ,  1.95,  2.1 ,  2.25,  2.4 ,  2.55,\n        2.7 ,  2.85,  3.  ,  3.15,  3.3 ,  3.45,  3.6 ,  3.75,  3.9 ,\n        4.05,  4.2 ,  4.35,  4.5 ,  4.65,  4.8 ,  4.95,  5.1 ,  5.25,\n        5.4 ,  5.55,  5.7 ,  5.85,  6.  ,  6.15,  6.3 ,  6.45,  6.6 ,\n        6.75,  6.9 ,  7.05,  7.19,  7.34,  7.49,  7.64,  7.79,  7.94,\n        8.09,  8.24,  8.39,  8.54,  8.69,  8.84,  8.99,  9.14,  9.29,\n        9.44,  9.59,  9.74,  9.89, 10.04, 10.19, 10.34, 10.49, 10.64,\n       10.79, 10.94, 11.09, 11.24, 11.39, 11.54, 11.69, 11.84, 11.99,\n       12.14, 12.29, 12.44, 12.59, 12.74, 12.89, 13.04, 13.19, 13.34,\n       13.49, 13.64, 13.79, 13.94, 14.09, 14.24, 14.39, 14.54, 14.69,\n       14.84, 14.99, 15.14, 15.29, 15.44, 15.59, 15.74, 15.89, 16.04,\n       16.19, 16.34, 16.49, 16.64, 16.79, 16.94, 17.09, 17.24, 17.39,\n       17.54, 17.69, 17.84, 17.99, 18.14, 18.29, 18.44, 18.59, 18.74,\n       18.89, 19.04, 19.19, 19.34, 19.49, 19.64, 19.79, 19.94, 20.09,\n       20.24, 20.39, 20.54, 20.69, 20.84, 20.99, 21.14, 21.29, 21.43,\n       21.58, 21.73, 21.88, 22.03, 22.18, 22.33, 22.48, 22.63, 22.78,\n       22.93, 23.08, 23.23, 23.38, 23.53, 23.68, 23.83, 23.98, 24.13,\n       24.28, 24.43, 24.58, 24.73, 24.88, 25.03, 25.18, 25.33, 25.48,\n       25.63, 25.78, 25.93, 26.08, 26.23, 26.38, 26.53, 26.68, 26.83,\n       26.98, 27.13, 27.28, 27.43, 27.58, 27.73, 27.88, 28.03, 28.18,\n       28.33, 28.48, 28.63, 28.78, 28.93, 29.08, 29.23, 29.38, 29.53,\n       29.68, 29.83, 29.98, 30.13, 30.28, 30.43, 30.58, 30.73, 30.88,\n       31.03, 31.18, 31.33, 31.48, 31.63, 31.78, 31.93, 32.08, 32.23,\n       32.38, 32.53, 32.68, 32.83, 32.98, 33.13, 33.28, 33.43, 33.58,\n       33.73, 33.88, 34.03, 34.18, 34.33, 34.48, 34.63, 34.78, 34.93,\n       35.08, 35.23, 35.38, 35.53, 35.67, 35.82, 35.97, 36.12, 36.27,\n       36.42, 36.57, 36.72, 36.87, 37.02, 37.17, 37.32, 37.47, 37.62,\n       37.77, 37.92, 38.07, 38.22])"
     },
     "execution_count": 4,
     "metadata": {},
     "output_type": "execute_result"
    }
   ],
   "source": [
    "y"
   ],
   "metadata": {
    "collapsed": false,
    "ExecuteTime": {
     "end_time": "2023-08-01T11:23:20.329627900Z",
     "start_time": "2023-08-01T11:23:20.304706200Z"
    }
   }
  },
  {
   "cell_type": "code",
   "execution_count": null,
   "outputs": [],
   "source": [],
   "metadata": {
    "collapsed": false
   }
  },
  {
   "cell_type": "code",
   "execution_count": null,
   "outputs": [],
   "source": [],
   "metadata": {
    "collapsed": false
   }
  },
  {
   "cell_type": "code",
   "execution_count": null,
   "outputs": [],
   "source": [],
   "metadata": {
    "collapsed": false
   }
  }
 ],
 "metadata": {
  "kernelspec": {
   "display_name": "Python 3",
   "language": "python",
   "name": "python3"
  },
  "language_info": {
   "codemirror_mode": {
    "name": "ipython",
    "version": 2
   },
   "file_extension": ".py",
   "mimetype": "text/x-python",
   "name": "python",
   "nbconvert_exporter": "python",
   "pygments_lexer": "ipython2",
   "version": "2.7.6"
  }
 },
 "nbformat": 4,
 "nbformat_minor": 0
}
