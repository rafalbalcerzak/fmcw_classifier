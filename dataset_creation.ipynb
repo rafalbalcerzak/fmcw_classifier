{
 "cells": [
  {
   "cell_type": "code",
   "execution_count": 1,
   "metadata": {
    "collapsed": true,
    "ExecuteTime": {
     "end_time": "2023-07-30T16:54:46.200168500Z",
     "start_time": "2023-07-30T16:54:45.044741800Z"
    }
   },
   "outputs": [],
   "source": [
    "import h5py\n",
    "import numpy as  np\n",
    "from tqdm import  trange\n",
    "from pathlib import Path\n",
    "import matplotlib.pyplot as plt\n",
    "import matplotlib.image\n",
    "from source import helper\n",
    "plt.rcParams[\"figure.figsize\"] = (20,5)\n",
    "plt.rcParams[\"image.interpolation\"] = 'none'"
   ]
  },
  {
   "cell_type": "code",
   "execution_count": 2,
   "outputs": [],
   "source": [
    "# RADAR_DIR = Path(\"C:/Users/rafal/PycharmProjects/fmcw_classifier/data\")  # change to your project dir\n",
    "# GROUP_NAME = '2023_03_21' # nazwa grupy (np. dzień pomiaru), de facto to tylko kolejny wymiar\n",
    "H5_FILENAME = 'final_dataset'\n",
    "loaded_file = h5py.File('data/'+ H5_FILENAME + '.h5','r')\n",
    "# loaded_file['2023_03_21'].keys()"
   ],
   "metadata": {
    "collapsed": false,
    "ExecuteTime": {
     "end_time": "2023-07-30T16:54:46.215166100Z",
     "start_time": "2023-07-30T16:54:46.203170Z"
    }
   }
  },
  {
   "cell_type": "code",
   "execution_count": 3,
   "outputs": [],
   "source": [
    "keys = loaded_file.keys()"
   ],
   "metadata": {
    "collapsed": false,
    "ExecuteTime": {
     "end_time": "2023-07-30T16:54:46.235184Z",
     "start_time": "2023-07-30T16:54:46.216166900Z"
    }
   }
  },
  {
   "cell_type": "code",
   "execution_count": 11,
   "outputs": [],
   "source": [
    "background = loaded_file['background']\n",
    "distances = [1,2,5,10,20,50]\n",
    "skip = 10\n",
    "max_depth = 50"
   ],
   "metadata": {
    "collapsed": false,
    "ExecuteTime": {
     "end_time": "2023-07-30T16:55:53.877838200Z",
     "start_time": "2023-07-30T16:55:53.853838800Z"
    }
   }
  },
  {
   "cell_type": "code",
   "execution_count": 73,
   "outputs": [
    {
     "name": "stdout",
     "output_type": "stream",
     "text": [
      "background\n",
      "bartek\n",
      "kuba\n",
      "oddychacz_2m_o0_s100\n",
      "oddychacz_2m_o30_s0\n",
      "oddychacz_2m_o30_s100\n",
      "oddychacz_3m_o0_s100\n",
      "oddychacz_3m_o30_s0\n",
      "oddychacz_3m_o30_s100\n",
      "oddychacz_4m_o0_s100\n",
      "oddychacz_4m_o30_s0\n",
      "oddychacz_4m_o30_s100\n",
      "oskar\n",
      "rafal\n",
      "randomowe_chodzonko_bartek\n",
      "randomowe_chodzonko_kuba\n",
      "randomowe_chodzonko_oskar\n",
      "randomowe_chodzonko_rafal\n",
      "samochod\n",
      "samples\n",
      "wiatrak_2m\n",
      "wiatrak_3m\n",
      "wiatrak_4m\n",
      "wiatrak_foliarz_2m\n",
      "wiatrak_foliarz_3m\n",
      "wiatrak_foliarz_4m\n"
     ]
    }
   ],
   "source": [
    "\n",
    "for key in keys:\n",
    "    print(key)\n",
    "    if key == 'samples' or key == 'background': continue\n",
    "\n",
    "    frames = loaded_file[key]\n",
    "    frames = helper.subtract_background(background, frames)\n",
    "    spects,y = helper.gen_n_diff_spect(frames, distances=distances)\n",
    "\n",
    "    sumed = np.sum(spects, axis=0)\n",
    "    sumed /= len(distances)\n",
    "    matplotlib.image.imsave('img/'+key+'.png', sumed[0:max_depth,::skip])"
   ],
   "metadata": {
    "collapsed": false,
    "ExecuteTime": {
     "end_time": "2023-07-29T17:34:24.219177Z",
     "start_time": "2023-07-29T17:34:00.377184300Z"
    }
   }
  },
  {
   "cell_type": "code",
   "execution_count": 150,
   "outputs": [
    {
     "name": "stdout",
     "output_type": "stream",
     "text": [
      "background\n",
      "bartek\n",
      "kuba\n",
      "oddychacz_2m_o0_s100\n",
      "oddychacz_2m_o30_s0\n",
      "oddychacz_2m_o30_s100\n",
      "oddychacz_3m_o0_s100\n",
      "oddychacz_3m_o30_s0\n",
      "oddychacz_3m_o30_s100\n",
      "oddychacz_4m_o0_s100\n",
      "oddychacz_4m_o30_s0\n",
      "oddychacz_4m_o30_s100\n",
      "oskar\n",
      "rafal\n",
      "randomowe_chodzonko_bartek\n",
      "randomowe_chodzonko_kuba\n",
      "randomowe_chodzonko_oskar\n",
      "randomowe_chodzonko_rafal\n",
      "samochod\n",
      "samples\n",
      "wiatrak_2m\n",
      "wiatrak_3m\n",
      "wiatrak_4m\n",
      "wiatrak_foliarz_2m\n",
      "wiatrak_foliarz_3m\n",
      "wiatrak_foliarz_4m\n"
     ]
    }
   ],
   "source": [
    "# X = []\n",
    "# Y = []\n",
    "# back = 10\n",
    "# for key in keys:\n",
    "#     print(key)\n",
    "#     if key == 'samples' or key == 'background': continue\n",
    "#     img  = matplotlib.image.imread('img/'+key+'.png')\n",
    "#     frames = loaded_file[key]\n",
    "#     frames = helper.subtract_background(background, frames)\n",
    "#     spects,y = helper.gen_n_diff_spect(frames, distances=distances)\n",
    "#     trajectory = img[:,:,0] == 0\n",
    "#     trajectory_extended = np.repeat(trajectory,10, axis=1)\n",
    "#     _, x = spects[0].shape\n",
    "#     _, y = trajectory_extended.shape\n",
    "#     trajectory_extended = trajectory_extended[:,:min(x,y)]\n",
    "#     normalized_spects = [helper.normalize(s[:max_depth,:min(x,y)]) for s in spects]\n",
    "#     y, x = np.where(trajectory_extended == 1)\n",
    "#\n",
    "#     for i, x_pos in enumerate(x):\n",
    "#         a = [s[:,x_pos-back:x_pos] for s in normalized_spects]\n",
    "#         a = np.array(a)\n",
    "#         b = np.zeros((50,1))\n",
    "#         b[y[i]] = 1\n",
    "#         if a.shape != (6,50,10):continue\n",
    "#         X.append(a)\n",
    "#         Y.append(b)\n",
    "# X = np.array(X)\n",
    "# Y = np.array(Y)"
   ],
   "metadata": {
    "collapsed": false,
    "ExecuteTime": {
     "end_time": "2023-07-29T18:21:52.545609800Z",
     "start_time": "2023-07-29T18:21:16.748909500Z"
    }
   }
  },
  {
   "cell_type": "code",
   "execution_count": 180,
   "outputs": [
    {
     "name": "stdout",
     "output_type": "stream",
     "text": [
      "background\n",
      "bartek\n",
      "kuba\n",
      "oddychacz_2m_o0_s100\n",
      "oddychacz_2m_o30_s0\n",
      "oddychacz_2m_o30_s100\n",
      "oddychacz_3m_o0_s100\n",
      "oddychacz_3m_o30_s0\n",
      "oddychacz_3m_o30_s100\n",
      "oddychacz_4m_o0_s100\n",
      "oddychacz_4m_o30_s0\n",
      "oddychacz_4m_o30_s100\n",
      "oskar\n",
      "rafal\n",
      "randomowe_chodzonko_bartek\n",
      "randomowe_chodzonko_kuba\n",
      "randomowe_chodzonko_oskar\n",
      "randomowe_chodzonko_rafal\n",
      "samochod\n",
      "samples\n",
      "wiatrak_2m\n",
      "wiatrak_3m\n",
      "wiatrak_4m\n",
      "wiatrak_foliarz_2m\n",
      "wiatrak_foliarz_3m\n",
      "wiatrak_foliarz_4m\n"
     ]
    }
   ],
   "source": [
    "X = []\n",
    "Y = []\n",
    "back = 10\n",
    "for key in keys:\n",
    "    print(key)\n",
    "    if key == 'samples' or key == 'background': continue\n",
    "    img  = matplotlib.image.imread('img/'+key+'.png')\n",
    "    frames = loaded_file[key]\n",
    "    frames = helper.subtract_background(background, frames)\n",
    "    spects,y = helper.gen_n_diff_spect(frames, distances=distances)\n",
    "    trajectory = img[:,:,0] == 0\n",
    "    trajectory_extended = np.repeat(trajectory,10, axis=1)\n",
    "    _, x = spects[0].shape\n",
    "    _, y = trajectory_extended.shape\n",
    "    trajectory_extended = trajectory_extended[:,:min(x,y)]\n",
    "    normalized_spects = [helper.normalize(s[:max_depth,:min(x,y)]) for s in spects]\n",
    "    normalized_spects = np.array(normalized_spects)\n",
    "\n",
    "    for i in range(trajectory_extended.shape[1]-back):\n",
    "        window = normalized_spects[:,:,i:i+back]\n",
    "        last = trajectory_extended[:,i+back]\n",
    "        try:\n",
    "            id = last.tolist().index(1)\n",
    "        except ValueError:\n",
    "            id = 50\n",
    "        X.append(window)\n",
    "        Y.append(id)\n",
    "\n",
    "X = np.array(X)\n",
    "Y = np.array(Y)"
   ],
   "metadata": {
    "collapsed": false,
    "ExecuteTime": {
     "end_time": "2023-07-29T18:42:00.671346900Z",
     "start_time": "2023-07-29T18:41:35.181427800Z"
    }
   }
  },
  {
   "cell_type": "code",
   "execution_count": 181,
   "outputs": [
    {
     "data": {
      "text/plain": "(88692, 6, 50, 10)"
     },
     "execution_count": 181,
     "metadata": {},
     "output_type": "execute_result"
    }
   ],
   "source": [
    "X.shape"
   ],
   "metadata": {
    "collapsed": false,
    "ExecuteTime": {
     "end_time": "2023-07-29T18:42:00.686474300Z",
     "start_time": "2023-07-29T18:42:00.674346300Z"
    }
   }
  },
  {
   "cell_type": "code",
   "execution_count": 182,
   "outputs": [
    {
     "data": {
      "text/plain": "(88692,)"
     },
     "execution_count": 182,
     "metadata": {},
     "output_type": "execute_result"
    }
   ],
   "source": [
    "Y.shape"
   ],
   "metadata": {
    "collapsed": false,
    "ExecuteTime": {
     "end_time": "2023-07-29T18:42:00.729719500Z",
     "start_time": "2023-07-29T18:42:00.690473200Z"
    }
   }
  },
  {
   "cell_type": "code",
   "execution_count": 185,
   "outputs": [],
   "source": [
    "np.save('data/position/X1', X)\n",
    "np.save('data/position/Y1', Y)"
   ],
   "metadata": {
    "collapsed": false,
    "ExecuteTime": {
     "end_time": "2023-07-29T18:42:30.213685Z",
     "start_time": "2023-07-29T18:42:26.897580800Z"
    }
   }
  },
  {
   "cell_type": "markdown",
   "source": [
    "Windows generation for label prediction"
   ],
   "metadata": {
    "collapsed": false
   }
  },
  {
   "cell_type": "code",
   "execution_count": 12,
   "outputs": [],
   "source": [
    "# 0 -error\n",
    "# 1-bartek\n",
    "# 2-kuba\n",
    "# 3-oskar\n",
    "# 4-rafal\n",
    "# 5-oddychacz, wiatrak, samochod\n",
    "labels= [0,1,2,5,5,5,5,5,5,5,5,5,3,4,1,2,3,4,5,0,5,5,5,5,5,5]"
   ],
   "metadata": {
    "collapsed": false,
    "ExecuteTime": {
     "end_time": "2023-07-30T16:56:04.241754400Z",
     "start_time": "2023-07-30T16:56:04.230753500Z"
    }
   }
  },
  {
   "cell_type": "code",
   "execution_count": 13,
   "outputs": [],
   "source": [
    "window_size = (15,15)"
   ],
   "metadata": {
    "collapsed": false,
    "ExecuteTime": {
     "end_time": "2023-07-30T16:56:04.581715100Z",
     "start_time": "2023-07-30T16:56:04.557712Z"
    }
   }
  },
  {
   "cell_type": "code",
   "execution_count": 14,
   "outputs": [
    {
     "name": "stdout",
     "output_type": "stream",
     "text": [
      "background\n",
      "bartek\n",
      "kuba\n",
      "oddychacz_2m_o0_s100\n",
      "oddychacz_2m_o30_s0\n",
      "oddychacz_2m_o30_s100\n",
      "oddychacz_3m_o0_s100\n",
      "oddychacz_3m_o30_s0\n",
      "oddychacz_3m_o30_s100\n",
      "oddychacz_4m_o0_s100\n",
      "oddychacz_4m_o30_s0\n",
      "oddychacz_4m_o30_s100\n",
      "oskar\n",
      "rafal\n",
      "randomowe_chodzonko_bartek\n",
      "randomowe_chodzonko_kuba\n",
      "randomowe_chodzonko_oskar\n",
      "randomowe_chodzonko_rafal\n",
      "samochod\n",
      "samples\n",
      "wiatrak_2m\n",
      "wiatrak_3m\n",
      "wiatrak_4m\n",
      "wiatrak_foliarz_2m\n",
      "wiatrak_foliarz_3m\n",
      "wiatrak_foliarz_4m\n"
     ]
    },
    {
     "data": {
      "text/plain": "<Figure size 2000x500 with 1 Axes>",
      "image/png": "[encoded data removed]"
     },
     "metadata": {},
     "output_type": "display_data"
    }
   ],
   "source": [
    "X_w = []\n",
    "Y_w = []\n",
    "back = 10\n",
    "for key, label in zip(keys,labels):\n",
    "    print(key)\n",
    "    if key == 'samples' or key == 'background': continue\n",
    "    img  = matplotlib.image.imread('img/'+key+'.png')\n",
    "    frames = loaded_file[key]\n",
    "    frames = helper.subtract_background(background, frames)\n",
    "    spects,y = helper.gen_n_diff_spect(frames, distances=distances)\n",
    "    trajectory = img[:,:,0] == 0\n",
    "    trajectory_extended = np.repeat(trajectory,10, axis=1)\n",
    "    _, x = spects[0].shape\n",
    "    _, y = trajectory_extended.shape\n",
    "    trajectory_extended = trajectory_extended[:,:min(x,y)]\n",
    "    normalized_spects = [helper.normalize(s[:max_depth,:min(x,y)]) for s in spects]\n",
    "    normalized_spects = np.array(normalized_spects)\n",
    "    y, x = np.where(trajectory_extended == 1)\n",
    "\n",
    "    for x_pos, y_pos in zip(x,y):\n",
    "        y_dim = window_size[1] // 2\n",
    "        x_dim = window_size[0]\n",
    "        window = normalized_spects[:,\n",
    "                                    y_pos-y_dim:y_pos+y_dim+1,\n",
    "                                    x_pos-x_dim:x_pos]\n",
    "        if window[0].shape == window_size:\n",
    "            plt.imshow(window[0])\n",
    "            X_w.append(window)\n",
    "            Y_w.append(label)\n",
    "\n",
    "\n",
    "X_w = np.array(X_w)\n",
    "Y_w = np.array(Y_w)"
   ],
   "metadata": {
    "collapsed": false,
    "ExecuteTime": {
     "end_time": "2023-07-30T17:34:31.393023800Z",
     "start_time": "2023-07-30T16:56:04.925942600Z"
    }
   }
  },
  {
   "cell_type": "code",
   "execution_count": 15,
   "outputs": [
    {
     "data": {
      "text/plain": "(81103, 6, 15, 15)"
     },
     "execution_count": 15,
     "metadata": {},
     "output_type": "execute_result"
    }
   ],
   "source": [
    "X_w.shape"
   ],
   "metadata": {
    "collapsed": false,
    "ExecuteTime": {
     "end_time": "2023-07-30T17:34:31.439024100Z",
     "start_time": "2023-07-30T17:34:31.397022700Z"
    }
   }
  },
  {
   "cell_type": "code",
   "execution_count": 16,
   "outputs": [
    {
     "data": {
      "text/plain": "(81103,)"
     },
     "execution_count": 16,
     "metadata": {},
     "output_type": "execute_result"
    }
   ],
   "source": [
    "Y_w.shape"
   ],
   "metadata": {
    "collapsed": false,
    "ExecuteTime": {
     "end_time": "2023-07-30T17:34:31.455022100Z",
     "start_time": "2023-07-30T17:34:31.412023600Z"
    }
   }
  },
  {
   "cell_type": "code",
   "execution_count": 17,
   "outputs": [],
   "source": [
    "np.save('data/class/X'+str(window_size), X_w)\n",
    "np.save('data/class/Y'+str(window_size), Y_w)"
   ],
   "metadata": {
    "collapsed": false,
    "ExecuteTime": {
     "end_time": "2023-07-30T18:35:58.091613600Z",
     "start_time": "2023-07-30T18:35:57.088105500Z"
    }
   }
  },
  {
   "cell_type": "code",
   "execution_count": 16,
   "outputs": [],
   "source": [],
   "metadata": {
    "collapsed": false,
    "ExecuteTime": {
     "end_time": "2023-07-30T17:34:31.456023800Z",
     "start_time": "2023-07-30T17:34:31.439024100Z"
    }
   }
  },
  {
   "cell_type": "code",
   "execution_count": null,
   "outputs": [],
   "source": [],
   "metadata": {
    "collapsed": false
   }
  },
  {
   "cell_type": "code",
   "execution_count": null,
   "outputs": [],
   "source": [],
   "metadata": {
    "collapsed": false
   }
  },
  {
   "cell_type": "code",
   "execution_count": null,
   "outputs": [],
   "source": [],
   "metadata": {
    "collapsed": false
   }
  },
  {
   "cell_type": "code",
   "execution_count": 209,
   "outputs": [],
   "source": [
    "img  = matplotlib.image.imread('img/kuba.png')\n",
    "frames = loaded_file['kuba']\n",
    "frames = helper.subtract_background(background, frames)\n",
    "spects,y = helper.gen_n_diff_spect(frames, distances=distances)\n",
    "trajectory = img[:,:,0] == 0\n",
    "trajectory_extended = np.repeat(trajectory,10, axis=1)\n",
    "_, x = spects[0].shape\n",
    "_, y = trajectory_extended.shape\n",
    "trajectory_extended = trajectory_extended[:,:min(x,y)]\n",
    "normalized_spects = [helper.normalize(s[:max_depth,:min(x,y)]) for s in spects]\n",
    "normalized_spects = np.array(normalized_spects)\n",
    "y, x = np.where(trajectory_extended == 1)\n",
    "\n"
   ],
   "metadata": {
    "collapsed": false,
    "ExecuteTime": {
     "end_time": "2023-07-29T18:56:48.798744300Z",
     "start_time": "2023-07-29T18:56:46.449240600Z"
    }
   }
  },
  {
   "cell_type": "code",
   "execution_count": 205,
   "outputs": [],
   "source": [
    "x_pos = x[2]\n",
    "y_pos = y[2]"
   ],
   "metadata": {
    "collapsed": false,
    "ExecuteTime": {
     "end_time": "2023-07-29T18:56:21.437262600Z",
     "start_time": "2023-07-29T18:56:21.424150400Z"
    }
   }
  },
  {
   "cell_type": "code",
   "execution_count": 206,
   "outputs": [],
   "source": [
    "y = window_size[1] // 2\n",
    "x = window_size[0]\n",
    "window = normalized_spects[:,\n",
    "                            y_pos-y:y_pos+y+1,\n",
    "                            x_pos-x:x_pos]"
   ],
   "metadata": {
    "collapsed": false,
    "ExecuteTime": {
     "end_time": "2023-07-29T18:56:22.144540300Z",
     "start_time": "2023-07-29T18:56:22.116214300Z"
    }
   }
  },
  {
   "cell_type": "code",
   "execution_count": 208,
   "outputs": [
    {
     "data": {
      "text/plain": "6"
     },
     "execution_count": 208,
     "metadata": {},
     "output_type": "execute_result"
    }
   ],
   "source": [
    "y_pos"
   ],
   "metadata": {
    "collapsed": false,
    "ExecuteTime": {
     "end_time": "2023-07-29T18:56:31.368276100Z",
     "start_time": "2023-07-29T18:56:31.348014100Z"
    }
   }
  },
  {
   "cell_type": "code",
   "execution_count": null,
   "outputs": [],
   "source": [],
   "metadata": {
    "collapsed": false
   }
  }
 ],
 "metadata": {
  "kernelspec": {
   "display_name": "Python 3",
   "language": "python",
   "name": "python3"
  },
  "language_info": {
   "codemirror_mode": {
    "name": "ipython",
    "version": 2
   },
   "file_extension": ".py",
   "mimetype": "text/x-python",
   "name": "python",
   "nbconvert_exporter": "python",
   "pygments_lexer": "ipython2",
   "version": "2.7.6"
  }
 },
 "nbformat": 4,
 "nbformat_minor": 0
}
